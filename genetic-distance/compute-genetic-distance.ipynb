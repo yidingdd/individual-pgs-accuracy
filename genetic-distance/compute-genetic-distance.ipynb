{
 "cells": [
  {
   "cell_type": "code",
   "execution_count": null,
   "id": "78fb4ada-58ef-48db-88a5-464df9a8e430",
   "metadata": {},
   "outputs": [],
   "source": [
    "ROOT_DIR='/u/scratch/y/yiding/prs/ukbb-atlas' # set your root directory\n",
    "suppressPackageStartupMessages({\n",
    "    library(readr)\n",
    "    library(tidyverse)\n",
    "    library(glue)\n",
    "})\n"
   ]
  },
  {
   "cell_type": "code",
   "execution_count": null,
   "id": "55f047ec-f348-4fae-9384-a3ca4a35a1e9",
   "metadata": {},
   "outputs": [],
   "source": [
    "# load pc and eigenvalues\n",
    "pca_df <- read_tsv(file.path(ROOT_DIR, 'pca/projections.txt'), col_types = paste0('cc', strrep('d',20)))\n",
    "pca_mat <- pca_df %>% select(starts_with('PC'))\n",
    "eigenvalues <- read_tsv(file.path(ROOT_DIR, 'pca/eigenvalues.txt'), col_names = 'lambda', col_types = 'd') %>% pull(lambda)"
   ]
  },
  {
   "cell_type": "code",
   "execution_count": null,
   "id": "3d991213-5f9a-4084-861f-d47aedb2c453",
   "metadata": {},
   "outputs": [],
   "source": [
    "dist_df <- data.frame(\n",
    "    FID_IID = paste0(pca_df$FID, '_', pca_df$IID),\n",
    "    euc_dist = sqrt(rowMeans(pca_mat**2)),\n",
    "    mah_dist = sqrt(rowSums(sweep(pca_mat**2, 2, eigenvalues, '/')))\n",
    ")\n",
    "dist_df %>% write_tsv('dist.tsv')"
   ]
  }
 ],
 "metadata": {
  "kernelspec": {
   "display_name": "R 4.1.0 DS",
   "language": "R",
   "name": "ir410-ds"
  },
  "language_info": {
   "codemirror_mode": "r",
   "file_extension": ".r",
   "mimetype": "text/x-r-source",
   "name": "R",
   "pygments_lexer": "r",
   "version": "4.1.0"
  }
 },
 "nbformat": 4,
 "nbformat_minor": 5
}
